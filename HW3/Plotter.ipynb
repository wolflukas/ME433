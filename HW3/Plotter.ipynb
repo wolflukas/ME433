{
 "cells": [
  {
   "cell_type": "code",
   "execution_count": 21,
   "metadata": {},
   "outputs": [
    {
     "data": {
      "image/png": "[encoded data removed]",
      "text/plain": [
       "<Figure size 432x288 with 1 Axes>"
      ]
     },
     "metadata": {
      "needs_background": "light"
     },
     "output_type": "display_data"
    }
   ],
   "source": [
    "#!/usr/bin/env python3\n",
    "\n",
    "# based on RPi Pico sample code\n",
    "\n",
    "# Grabs raw data from virtual UART and plots it as received\n",
    "\n",
    "# Install dependencies:\n",
    "# python3 -m pip install pyserial matplotlib\n",
    "\n",
    "# Usage: python3 plotter <port>\n",
    "# eg. python3 plotter /dev/ttyACM0\n",
    "\n",
    "# see matplotlib animation API for more: https://matplotlib.org/stable/api/animation_api.html\n",
    "\n",
    "import serial\n",
    "import sys\n",
    "import matplotlib.pyplot as plt\n",
    "import matplotlib.animation as animation\n",
    "from matplotlib.lines import Line2D\n",
    "\n",
    "# disable toolbar\n",
    "plt.rcParams['toolbar'] = 'None'\n",
    "\n",
    "class Plotter:\n",
    "    def __init__(self, ax):\n",
    "        self.ax = ax\n",
    "        self.maxt = 250\n",
    "        self.tdata = [0]\n",
    "        self.ydata = [3.3/2]\n",
    "        self.line = Line2D(self.tdata, self.ydata)\n",
    "\n",
    "        self.ax.add_line(self.line)\n",
    "        self.ax.set_ylim(-1, 1)\n",
    "        self.ax.set_xlim(0, self.maxt)\n",
    "\n",
    "    def update(self, y):\n",
    "        lastt = self.tdata[-1]\n",
    "        if lastt - self.tdata[0] >= self.maxt:  # drop old frames\n",
    "            self.tdata = self.tdata[1:]\n",
    "            self.ydata = self.ydata[1:]\n",
    "            self.ax.set_xlim(self.tdata[0], self.tdata[0] + self.maxt)\n",
    "\n",
    "        t = lastt + 1\n",
    "        self.tdata.append(t)\n",
    "        self.ydata.append(y)\n",
    "        self.line.set_data(self.tdata, self.ydata)\n",
    "        return self.line,\n",
    "\n",
    "\n",
    "def serial_getter():\n",
    "    # grab fresh ADC values\n",
    "    # note sometimes UART drops chars so we try a max of 5 times\n",
    "    # to get proper data\n",
    "    while True:\n",
    "        for i in range(5):\n",
    "            line = ser.readline()\n",
    "            try:\n",
    "                line = float(line)\n",
    "            except ValueError:\n",
    "                continue\n",
    "            break\n",
    "        yield line\n",
    "\n",
    "#if len(sys.argv) < 2:\n",
    "#    raise Exception(\"Ruh roh..no port specified!\")\n",
    "\n",
    "# hard coded serial port name, timeout after 2 minutes\n",
    "ser = serial.Serial(\"COM5\", 230400, timeout=120)\n",
    "\n",
    "fig, ax = plt.subplots()\n",
    "plotter = Plotter(ax)\n",
    "\n",
    "ani = animation.FuncAnimation(fig, plotter.update, serial_getter, interval=1,\n",
    "                              blit=True, cache_frame_data=False)\n",
    "\n",
    "ax.set_xlabel(\"Samples\")\n",
    "ax.set_ylabel(\"Voltage (V)\")\n",
    "fig.canvas.manager.set_window_title('Plot Voltage Data [-1-1V]')\n",
    "fig.tight_layout()\n",
    "plt.show()"
   ]
  }
 ],
 "metadata": {
  "kernelspec": {
   "display_name": "Python 3",
   "language": "python",
   "name": "python3"
  }
 },
 "nbformat": 4,
 "nbformat_minor": 4
}
